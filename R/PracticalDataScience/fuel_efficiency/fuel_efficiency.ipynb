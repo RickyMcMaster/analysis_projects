{
 "cells": [
  {
   "cell_type": "code",
   "execution_count": 2,
   "metadata": {},
   "outputs": [],
   "source": [
    "library(plyr)\n",
    "library(ggplot2)\n",
    "library(reshape2)"
   ]
  },
  {
   "cell_type": "code",
   "execution_count": 3,
   "metadata": {},
   "outputs": [],
   "source": [
    "vehicles <- read.csv(unz(\"vehicles.csv.zip\", \"vehicles.csv\"), stringsAsFactors = F)"
   ]
  },
  {
   "cell_type": "code",
   "execution_count": 4,
   "metadata": {},
   "outputs": [
    {
     "data": {
      "text/html": [
       "<table>\n",
       "<thead><tr><th scope=col>barrels08</th><th scope=col>barrelsA08</th><th scope=col>charge120</th><th scope=col>charge240</th><th scope=col>city08</th><th scope=col>city08U</th><th scope=col>cityA08</th><th scope=col>cityA08U</th><th scope=col>cityCD</th><th scope=col>cityE</th><th scope=col>⋯</th><th scope=col>mfrCode</th><th scope=col>c240Dscr</th><th scope=col>charge240b</th><th scope=col>c240bDscr</th><th scope=col>createdOn</th><th scope=col>modifiedOn</th><th scope=col>startStop</th><th scope=col>phevCity</th><th scope=col>phevHwy</th><th scope=col>phevComb</th></tr></thead>\n",
       "<tbody>\n",
       "\t<tr><td>15.69571                    </td><td>0                           </td><td>0                           </td><td>0                           </td><td>19                          </td><td>0                           </td><td>0                           </td><td>0                           </td><td>0                           </td><td>0                           </td><td>⋯                           </td><td>                            </td><td>                            </td><td>0                           </td><td>                            </td><td>Tue Jan 01 00:00:00 EST 2013</td><td>Tue Jan 01 00:00:00 EST 2013</td><td>                            </td><td>0                           </td><td>0                           </td><td>0                           </td></tr>\n",
       "\t<tr><td>29.96455                    </td><td>0                           </td><td>0                           </td><td>0                           </td><td> 9                          </td><td>0                           </td><td>0                           </td><td>0                           </td><td>0                           </td><td>0                           </td><td>⋯                           </td><td>                            </td><td>                            </td><td>0                           </td><td>                            </td><td>Tue Jan 01 00:00:00 EST 2013</td><td>Tue Jan 01 00:00:00 EST 2013</td><td>                            </td><td>0                           </td><td>0                           </td><td>0                           </td></tr>\n",
       "\t<tr><td>12.20778                    </td><td>0                           </td><td>0                           </td><td>0                           </td><td>23                          </td><td>0                           </td><td>0                           </td><td>0                           </td><td>0                           </td><td>0                           </td><td>⋯                           </td><td>                            </td><td>                            </td><td>0                           </td><td>                            </td><td>Tue Jan 01 00:00:00 EST 2013</td><td>Tue Jan 01 00:00:00 EST 2013</td><td>                            </td><td>0                           </td><td>0                           </td><td>0                           </td></tr>\n",
       "\t<tr><td>29.96455                    </td><td>0                           </td><td>0                           </td><td>0                           </td><td>10                          </td><td>0                           </td><td>0                           </td><td>0                           </td><td>0                           </td><td>0                           </td><td>⋯                           </td><td>                            </td><td>                            </td><td>0                           </td><td>                            </td><td>Tue Jan 01 00:00:00 EST 2013</td><td>Tue Jan 01 00:00:00 EST 2013</td><td>                            </td><td>0                           </td><td>0                           </td><td>0                           </td></tr>\n",
       "\t<tr><td>17.34789                    </td><td>0                           </td><td>0                           </td><td>0                           </td><td>17                          </td><td>0                           </td><td>0                           </td><td>0                           </td><td>0                           </td><td>0                           </td><td>⋯                           </td><td>                            </td><td>                            </td><td>0                           </td><td>                            </td><td>Tue Jan 01 00:00:00 EST 2013</td><td>Tue Jan 01 00:00:00 EST 2013</td><td>                            </td><td>0                           </td><td>0                           </td><td>0                           </td></tr>\n",
       "\t<tr><td>14.98227                    </td><td>0                           </td><td>0                           </td><td>0                           </td><td>21                          </td><td>0                           </td><td>0                           </td><td>0                           </td><td>0                           </td><td>0                           </td><td>⋯                           </td><td>                            </td><td>                            </td><td>0                           </td><td>                            </td><td>Tue Jan 01 00:00:00 EST 2013</td><td>Tue Jan 01 00:00:00 EST 2013</td><td>                            </td><td>0                           </td><td>0                           </td><td>0                           </td></tr>\n",
       "</tbody>\n",
       "</table>\n"
      ],
      "text/latex": [
       "\\begin{tabular}{r|lllllllllllllllllllllllllllllllllllllllllllllllllllllllllllllllllllllllllllllllllll}\n",
       " barrels08 & barrelsA08 & charge120 & charge240 & city08 & city08U & cityA08 & cityA08U & cityCD & cityE & ⋯ & mfrCode & c240Dscr & charge240b & c240bDscr & createdOn & modifiedOn & startStop & phevCity & phevHwy & phevComb\\\\\n",
       "\\hline\n",
       "\t 15.69571                     & 0                            & 0                            & 0                            & 19                           & 0                            & 0                            & 0                            & 0                            & 0                            & ⋯                            &                              &                              & 0                            &                              & Tue Jan 01 00:00:00 EST 2013 & Tue Jan 01 00:00:00 EST 2013 &                              & 0                            & 0                            & 0                           \\\\\n",
       "\t 29.96455                     & 0                            & 0                            & 0                            &  9                           & 0                            & 0                            & 0                            & 0                            & 0                            & ⋯                            &                              &                              & 0                            &                              & Tue Jan 01 00:00:00 EST 2013 & Tue Jan 01 00:00:00 EST 2013 &                              & 0                            & 0                            & 0                           \\\\\n",
       "\t 12.20778                     & 0                            & 0                            & 0                            & 23                           & 0                            & 0                            & 0                            & 0                            & 0                            & ⋯                            &                              &                              & 0                            &                              & Tue Jan 01 00:00:00 EST 2013 & Tue Jan 01 00:00:00 EST 2013 &                              & 0                            & 0                            & 0                           \\\\\n",
       "\t 29.96455                     & 0                            & 0                            & 0                            & 10                           & 0                            & 0                            & 0                            & 0                            & 0                            & ⋯                            &                              &                              & 0                            &                              & Tue Jan 01 00:00:00 EST 2013 & Tue Jan 01 00:00:00 EST 2013 &                              & 0                            & 0                            & 0                           \\\\\n",
       "\t 17.34789                     & 0                            & 0                            & 0                            & 17                           & 0                            & 0                            & 0                            & 0                            & 0                            & ⋯                            &                              &                              & 0                            &                              & Tue Jan 01 00:00:00 EST 2013 & Tue Jan 01 00:00:00 EST 2013 &                              & 0                            & 0                            & 0                           \\\\\n",
       "\t 14.98227                     & 0                            & 0                            & 0                            & 21                           & 0                            & 0                            & 0                            & 0                            & 0                            & ⋯                            &                              &                              & 0                            &                              & Tue Jan 01 00:00:00 EST 2013 & Tue Jan 01 00:00:00 EST 2013 &                              & 0                            & 0                            & 0                           \\\\\n",
       "\\end{tabular}\n"
      ],
      "text/markdown": [
       "\n",
       "barrels08 | barrelsA08 | charge120 | charge240 | city08 | city08U | cityA08 | cityA08U | cityCD | cityE | ⋯ | mfrCode | c240Dscr | charge240b | c240bDscr | createdOn | modifiedOn | startStop | phevCity | phevHwy | phevComb | \n",
       "|---|---|---|---|---|---|\n",
       "| 15.69571                     | 0                            | 0                            | 0                            | 19                           | 0                            | 0                            | 0                            | 0                            | 0                            | ⋯                            |                              |                              | 0                            |                              | Tue Jan 01 00:00:00 EST 2013 | Tue Jan 01 00:00:00 EST 2013 |                              | 0                            | 0                            | 0                            | \n",
       "| 29.96455                     | 0                            | 0                            | 0                            |  9                           | 0                            | 0                            | 0                            | 0                            | 0                            | ⋯                            |                              |                              | 0                            |                              | Tue Jan 01 00:00:00 EST 2013 | Tue Jan 01 00:00:00 EST 2013 |                              | 0                            | 0                            | 0                            | \n",
       "| 12.20778                     | 0                            | 0                            | 0                            | 23                           | 0                            | 0                            | 0                            | 0                            | 0                            | ⋯                            |                              |                              | 0                            |                              | Tue Jan 01 00:00:00 EST 2013 | Tue Jan 01 00:00:00 EST 2013 |                              | 0                            | 0                            | 0                            | \n",
       "| 29.96455                     | 0                            | 0                            | 0                            | 10                           | 0                            | 0                            | 0                            | 0                            | 0                            | ⋯                            |                              |                              | 0                            |                              | Tue Jan 01 00:00:00 EST 2013 | Tue Jan 01 00:00:00 EST 2013 |                              | 0                            | 0                            | 0                            | \n",
       "| 17.34789                     | 0                            | 0                            | 0                            | 17                           | 0                            | 0                            | 0                            | 0                            | 0                            | ⋯                            |                              |                              | 0                            |                              | Tue Jan 01 00:00:00 EST 2013 | Tue Jan 01 00:00:00 EST 2013 |                              | 0                            | 0                            | 0                            | \n",
       "| 14.98227                     | 0                            | 0                            | 0                            | 21                           | 0                            | 0                            | 0                            | 0                            | 0                            | ⋯                            |                              |                              | 0                            |                              | Tue Jan 01 00:00:00 EST 2013 | Tue Jan 01 00:00:00 EST 2013 |                              | 0                            | 0                            | 0                            | \n",
       "\n",
       "\n"
      ],
      "text/plain": [
       "  barrels08 barrelsA08 charge120 charge240 city08 city08U cityA08 cityA08U\n",
       "1 15.69571  0          0         0         19     0       0       0       \n",
       "2 29.96455  0          0         0          9     0       0       0       \n",
       "3 12.20778  0          0         0         23     0       0       0       \n",
       "4 29.96455  0          0         0         10     0       0       0       \n",
       "5 17.34789  0          0         0         17     0       0       0       \n",
       "6 14.98227  0          0         0         21     0       0       0       \n",
       "  cityCD cityE ⋯ mfrCode c240Dscr charge240b c240bDscr\n",
       "1 0      0     ⋯                  0                   \n",
       "2 0      0     ⋯                  0                   \n",
       "3 0      0     ⋯                  0                   \n",
       "4 0      0     ⋯                  0                   \n",
       "5 0      0     ⋯                  0                   \n",
       "6 0      0     ⋯                  0                   \n",
       "  createdOn                    modifiedOn                   startStop phevCity\n",
       "1 Tue Jan 01 00:00:00 EST 2013 Tue Jan 01 00:00:00 EST 2013           0       \n",
       "2 Tue Jan 01 00:00:00 EST 2013 Tue Jan 01 00:00:00 EST 2013           0       \n",
       "3 Tue Jan 01 00:00:00 EST 2013 Tue Jan 01 00:00:00 EST 2013           0       \n",
       "4 Tue Jan 01 00:00:00 EST 2013 Tue Jan 01 00:00:00 EST 2013           0       \n",
       "5 Tue Jan 01 00:00:00 EST 2013 Tue Jan 01 00:00:00 EST 2013           0       \n",
       "6 Tue Jan 01 00:00:00 EST 2013 Tue Jan 01 00:00:00 EST 2013           0       \n",
       "  phevHwy phevComb\n",
       "1 0       0       \n",
       "2 0       0       \n",
       "3 0       0       \n",
       "4 0       0       \n",
       "5 0       0       \n",
       "6 0       0       "
      ]
     },
     "metadata": {},
     "output_type": "display_data"
    },
    {
     "data": {
      "text/html": [
       "<table>\n",
       "<thead><tr><th></th><th scope=col>barrels08</th><th scope=col>barrelsA08</th><th scope=col>charge120</th><th scope=col>charge240</th><th scope=col>city08</th><th scope=col>city08U</th><th scope=col>cityA08</th><th scope=col>cityA08U</th><th scope=col>cityCD</th><th scope=col>cityE</th><th scope=col>⋯</th><th scope=col>mfrCode</th><th scope=col>c240Dscr</th><th scope=col>charge240b</th><th scope=col>c240bDscr</th><th scope=col>createdOn</th><th scope=col>modifiedOn</th><th scope=col>startStop</th><th scope=col>phevCity</th><th scope=col>phevHwy</th><th scope=col>phevComb</th></tr></thead>\n",
       "<tbody>\n",
       "\t<tr><th scope=row>40076</th><td>13.18440                    </td><td>0                           </td><td>0                           </td><td>0                           </td><td>21                          </td><td>0                           </td><td>0                           </td><td>0                           </td><td>0                           </td><td>0                           </td><td>⋯                           </td><td>                            </td><td>                            </td><td>0                           </td><td>                            </td><td>Tue Jan 01 00:00:00 EST 2013</td><td>Tue Jan 01 00:00:00 EST 2013</td><td>                            </td><td>0                           </td><td>0                           </td><td>0                           </td></tr>\n",
       "\t<tr><th scope=row>40077</th><td>14.98227                    </td><td>0                           </td><td>0                           </td><td>0                           </td><td>19                          </td><td>0                           </td><td>0                           </td><td>0                           </td><td>0                           </td><td>0                           </td><td>⋯                           </td><td>                            </td><td>                            </td><td>0                           </td><td>                            </td><td>Tue Jan 01 00:00:00 EST 2013</td><td>Tue Jan 01 00:00:00 EST 2013</td><td>                            </td><td>0                           </td><td>0                           </td><td>0                           </td></tr>\n",
       "\t<tr><th scope=row>40078</th><td>14.33087                    </td><td>0                           </td><td>0                           </td><td>0                           </td><td>20                          </td><td>0                           </td><td>0                           </td><td>0                           </td><td>0                           </td><td>0                           </td><td>⋯                           </td><td>                            </td><td>                            </td><td>0                           </td><td>                            </td><td>Tue Jan 01 00:00:00 EST 2013</td><td>Tue Jan 01 00:00:00 EST 2013</td><td>                            </td><td>0                           </td><td>0                           </td><td>0                           </td></tr>\n",
       "\t<tr><th scope=row>40079</th><td>15.69571                    </td><td>0                           </td><td>0                           </td><td>0                           </td><td>18                          </td><td>0                           </td><td>0                           </td><td>0                           </td><td>0                           </td><td>0                           </td><td>⋯                           </td><td>                            </td><td>                            </td><td>0                           </td><td>                            </td><td>Tue Jan 01 00:00:00 EST 2013</td><td>Tue Jan 01 00:00:00 EST 2013</td><td>                            </td><td>0                           </td><td>0                           </td><td>0                           </td></tr>\n",
       "\t<tr><th scope=row>40080</th><td>15.69571                    </td><td>0                           </td><td>0                           </td><td>0                           </td><td>18                          </td><td>0                           </td><td>0                           </td><td>0                           </td><td>0                           </td><td>0                           </td><td>⋯                           </td><td>                            </td><td>                            </td><td>0                           </td><td>                            </td><td>Tue Jan 01 00:00:00 EST 2013</td><td>Tue Jan 01 00:00:00 EST 2013</td><td>                            </td><td>0                           </td><td>0                           </td><td>0                           </td></tr>\n",
       "\t<tr><th scope=row>40081</th><td>18.31167                    </td><td>0                           </td><td>0                           </td><td>0                           </td><td>16                          </td><td>0                           </td><td>0                           </td><td>0                           </td><td>0                           </td><td>0                           </td><td>⋯                           </td><td>                            </td><td>                            </td><td>0                           </td><td>                            </td><td>Tue Jan 01 00:00:00 EST 2013</td><td>Tue Jan 01 00:00:00 EST 2013</td><td>                            </td><td>0                           </td><td>0                           </td><td>0                           </td></tr>\n",
       "</tbody>\n",
       "</table>\n"
      ],
      "text/latex": [
       "\\begin{tabular}{r|lllllllllllllllllllllllllllllllllllllllllllllllllllllllllllllllllllllllllllllllllll}\n",
       "  & barrels08 & barrelsA08 & charge120 & charge240 & city08 & city08U & cityA08 & cityA08U & cityCD & cityE & ⋯ & mfrCode & c240Dscr & charge240b & c240bDscr & createdOn & modifiedOn & startStop & phevCity & phevHwy & phevComb\\\\\n",
       "\\hline\n",
       "\t40076 & 13.18440                     & 0                            & 0                            & 0                            & 21                           & 0                            & 0                            & 0                            & 0                            & 0                            & ⋯                            &                              &                              & 0                            &                              & Tue Jan 01 00:00:00 EST 2013 & Tue Jan 01 00:00:00 EST 2013 &                              & 0                            & 0                            & 0                           \\\\\n",
       "\t40077 & 14.98227                     & 0                            & 0                            & 0                            & 19                           & 0                            & 0                            & 0                            & 0                            & 0                            & ⋯                            &                              &                              & 0                            &                              & Tue Jan 01 00:00:00 EST 2013 & Tue Jan 01 00:00:00 EST 2013 &                              & 0                            & 0                            & 0                           \\\\\n",
       "\t40078 & 14.33087                     & 0                            & 0                            & 0                            & 20                           & 0                            & 0                            & 0                            & 0                            & 0                            & ⋯                            &                              &                              & 0                            &                              & Tue Jan 01 00:00:00 EST 2013 & Tue Jan 01 00:00:00 EST 2013 &                              & 0                            & 0                            & 0                           \\\\\n",
       "\t40079 & 15.69571                     & 0                            & 0                            & 0                            & 18                           & 0                            & 0                            & 0                            & 0                            & 0                            & ⋯                            &                              &                              & 0                            &                              & Tue Jan 01 00:00:00 EST 2013 & Tue Jan 01 00:00:00 EST 2013 &                              & 0                            & 0                            & 0                           \\\\\n",
       "\t40080 & 15.69571                     & 0                            & 0                            & 0                            & 18                           & 0                            & 0                            & 0                            & 0                            & 0                            & ⋯                            &                              &                              & 0                            &                              & Tue Jan 01 00:00:00 EST 2013 & Tue Jan 01 00:00:00 EST 2013 &                              & 0                            & 0                            & 0                           \\\\\n",
       "\t40081 & 18.31167                     & 0                            & 0                            & 0                            & 16                           & 0                            & 0                            & 0                            & 0                            & 0                            & ⋯                            &                              &                              & 0                            &                              & Tue Jan 01 00:00:00 EST 2013 & Tue Jan 01 00:00:00 EST 2013 &                              & 0                            & 0                            & 0                           \\\\\n",
       "\\end{tabular}\n"
      ],
      "text/markdown": [
       "\n",
       "| <!--/--> | barrels08 | barrelsA08 | charge120 | charge240 | city08 | city08U | cityA08 | cityA08U | cityCD | cityE | ⋯ | mfrCode | c240Dscr | charge240b | c240bDscr | createdOn | modifiedOn | startStop | phevCity | phevHwy | phevComb | \n",
       "|---|---|---|---|---|---|\n",
       "| 40076 | 13.18440                     | 0                            | 0                            | 0                            | 21                           | 0                            | 0                            | 0                            | 0                            | 0                            | ⋯                            |                              |                              | 0                            |                              | Tue Jan 01 00:00:00 EST 2013 | Tue Jan 01 00:00:00 EST 2013 |                              | 0                            | 0                            | 0                            | \n",
       "| 40077 | 14.98227                     | 0                            | 0                            | 0                            | 19                           | 0                            | 0                            | 0                            | 0                            | 0                            | ⋯                            |                              |                              | 0                            |                              | Tue Jan 01 00:00:00 EST 2013 | Tue Jan 01 00:00:00 EST 2013 |                              | 0                            | 0                            | 0                            | \n",
       "| 40078 | 14.33087                     | 0                            | 0                            | 0                            | 20                           | 0                            | 0                            | 0                            | 0                            | 0                            | ⋯                            |                              |                              | 0                            |                              | Tue Jan 01 00:00:00 EST 2013 | Tue Jan 01 00:00:00 EST 2013 |                              | 0                            | 0                            | 0                            | \n",
       "| 40079 | 15.69571                     | 0                            | 0                            | 0                            | 18                           | 0                            | 0                            | 0                            | 0                            | 0                            | ⋯                            |                              |                              | 0                            |                              | Tue Jan 01 00:00:00 EST 2013 | Tue Jan 01 00:00:00 EST 2013 |                              | 0                            | 0                            | 0                            | \n",
       "| 40080 | 15.69571                     | 0                            | 0                            | 0                            | 18                           | 0                            | 0                            | 0                            | 0                            | 0                            | ⋯                            |                              |                              | 0                            |                              | Tue Jan 01 00:00:00 EST 2013 | Tue Jan 01 00:00:00 EST 2013 |                              | 0                            | 0                            | 0                            | \n",
       "| 40081 | 18.31167                     | 0                            | 0                            | 0                            | 16                           | 0                            | 0                            | 0                            | 0                            | 0                            | ⋯                            |                              |                              | 0                            |                              | Tue Jan 01 00:00:00 EST 2013 | Tue Jan 01 00:00:00 EST 2013 |                              | 0                            | 0                            | 0                            | \n",
       "\n",
       "\n"
      ],
      "text/plain": [
       "      barrels08 barrelsA08 charge120 charge240 city08 city08U cityA08 cityA08U\n",
       "40076 13.18440  0          0         0         21     0       0       0       \n",
       "40077 14.98227  0          0         0         19     0       0       0       \n",
       "40078 14.33087  0          0         0         20     0       0       0       \n",
       "40079 15.69571  0          0         0         18     0       0       0       \n",
       "40080 15.69571  0          0         0         18     0       0       0       \n",
       "40081 18.31167  0          0         0         16     0       0       0       \n",
       "      cityCD cityE ⋯ mfrCode c240Dscr charge240b c240bDscr\n",
       "40076 0      0     ⋯                  0                   \n",
       "40077 0      0     ⋯                  0                   \n",
       "40078 0      0     ⋯                  0                   \n",
       "40079 0      0     ⋯                  0                   \n",
       "40080 0      0     ⋯                  0                   \n",
       "40081 0      0     ⋯                  0                   \n",
       "      createdOn                    modifiedOn                   startStop\n",
       "40076 Tue Jan 01 00:00:00 EST 2013 Tue Jan 01 00:00:00 EST 2013          \n",
       "40077 Tue Jan 01 00:00:00 EST 2013 Tue Jan 01 00:00:00 EST 2013          \n",
       "40078 Tue Jan 01 00:00:00 EST 2013 Tue Jan 01 00:00:00 EST 2013          \n",
       "40079 Tue Jan 01 00:00:00 EST 2013 Tue Jan 01 00:00:00 EST 2013          \n",
       "40080 Tue Jan 01 00:00:00 EST 2013 Tue Jan 01 00:00:00 EST 2013          \n",
       "40081 Tue Jan 01 00:00:00 EST 2013 Tue Jan 01 00:00:00 EST 2013          \n",
       "      phevCity phevHwy phevComb\n",
       "40076 0        0       0       \n",
       "40077 0        0       0       \n",
       "40078 0        0       0       \n",
       "40079 0        0       0       \n",
       "40080 0        0       0       \n",
       "40081 0        0       0       "
      ]
     },
     "metadata": {},
     "output_type": "display_data"
    }
   ],
   "source": [
    "head(vehicles)\n",
    "tail(vehicles)"
   ]
  },
  {
   "cell_type": "code",
   "execution_count": 5,
   "metadata": {},
   "outputs": [
    {
     "ename": "ERROR",
     "evalue": "Error in scan(file = file, what = what, sep = sep, quote = quote, dec = dec, : line 11 did not have 2 elements\n",
     "output_type": "error",
     "traceback": [
      "Error in scan(file = file, what = what, sep = sep, quote = quote, dec = dec, : line 11 did not have 2 elements\nTraceback:\n",
      "1. read.table(\"varlabels.txt\", sep = \"-\", header = FALSE)",
      "2. scan(file = file, what = what, sep = sep, quote = quote, dec = dec, \n .     nmax = nrows, skip = 0, na.strings = na.strings, quiet = TRUE, \n .     fill = fill, strip.white = strip.white, blank.lines.skip = blank.lines.skip, \n .     multi.line = FALSE, comment.char = comment.char, allowEscapes = allowEscapes, \n .     flush = flush, encoding = encoding, skipNul = skipNul)"
     ]
    }
   ],
   "source": [
    "labels <- read.table(\"varlabels.txt\", sep = \"-\", header = FALSE)"
   ]
  },
  {
   "cell_type": "code",
   "execution_count": 6,
   "metadata": {},
   "outputs": [
    {
     "name": "stderr",
     "output_type": "stream",
     "text": [
      "Warning message in readLines(\"varlabels.txt\"):\n",
      "“incomplete final line found on 'varlabels.txt'”"
     ]
    },
    {
     "data": {
      "text/html": [
       "<table>\n",
       "<tbody>\n",
       "\t<tr><td>atvtype                                                                        </td><td>type of alternative fuel or advanced technology vehicle                        </td></tr>\n",
       "\t<tr><td>barrels08                                                                      </td><td>annual petroleum consumption in barrels for fuelType1 (1)                      </td></tr>\n",
       "\t<tr><td>barrelsA08                                                                     </td><td>annual petroleum consumption in barrels for fuelType2 (1)                      </td></tr>\n",
       "\t<tr><td>charge120                                                                      </td><td>time to charge an electric vehicle in hours at 120 V                           </td></tr>\n",
       "\t<tr><td>charge240                                                                      </td><td>time to charge an electric vehicle in hours at 240 V                           </td></tr>\n",
       "\t<tr><td>city08                                                                         </td><td>city MPG for fuelType1 (2), (11)                                               </td></tr>\n",
       "\t<tr><td>city08U                                                                        </td><td>unrounded city MPG for fuelType1 (2), (3)                                      </td></tr>\n",
       "\t<tr><td>cityA08                                                                        </td><td>city MPG for fuelType2 (2)                                                     </td></tr>\n",
       "\t<tr><td>cityA08U                                                                       </td><td>unrounded city MPG for fuelType2 (2), (3)                                      </td></tr>\n",
       "\t<tr><td>cityCD                                                                         </td><td>city gasoline consumption (gallons/100 miles) in charge depleting mode (4)     </td></tr>\n",
       "\t<tr><td>cityE                                                                          </td><td>city electricity consumption in kw-hrs/100 miles                               </td></tr>\n",
       "\t<tr><td>cityUF                                                                         </td><td>EPA city utility factor (share of electricity) for PHEV                        </td></tr>\n",
       "\t<tr><td>co2                                                                            </td><td>tailpipe CO2 in grams/mile for fuelType1 (5)                                   </td></tr>\n",
       "\t<tr><td>co2A                                                                           </td><td>tailpipe CO2 in grams/mile for fuelType2 (5)                                   </td></tr>\n",
       "\t<tr><td>co2TailpipeAGpm                                                                </td><td>tailpipe CO2 in grams/mile for fuelType2 (5)                                   </td></tr>\n",
       "\t<tr><td>co2TailpipeGpm- tailpipe CO2 in grams/mile for fuelType1 (5)                   </td><td>co2TailpipeGpm- tailpipe CO2 in grams/mile for fuelType1 (5)                   </td></tr>\n",
       "\t<tr><td>comb08                                                                         </td><td>combined MPG for fuelType1 (2), (11)                                           </td></tr>\n",
       "\t<tr><td>comb08U                                                                        </td><td>unrounded combined MPG for fuelType1 (2), (3)                                  </td></tr>\n",
       "\t<tr><td>combA08                                                                        </td><td>combined MPG for fuelType2 (2)                                                 </td></tr>\n",
       "\t<tr><td>combA08U                                                                       </td><td>unrounded combined MPG for fuelType2 (2), (3)                                  </td></tr>\n",
       "\t<tr><td>combE                                                                          </td><td>combined electricity consumption in kw-hrs/100 miles                           </td></tr>\n",
       "\t<tr><td>combinedCD                                                                     </td><td>combined gasoline consumption (gallons/100 miles) in charge depleting mode (4) </td></tr>\n",
       "\t<tr><td>combinedUF                                                                     </td><td>EPA combined utility factor (share of electricity) for PHEV                    </td></tr>\n",
       "\t<tr><td>cylinders                                                                      </td><td>engine cylinders                                                               </td></tr>\n",
       "\t<tr><td>displ                                                                          </td><td>engine displacement in liters                                                  </td></tr>\n",
       "\t<tr><td>drive                                                                          </td><td>drive axle type                                                                </td></tr>\n",
       "\t<tr><td>emissionsList                                                                  </td><td>emissionsList                                                                  </td></tr>\n",
       "\t<tr><td>engId                                                                          </td><td>EPA model type index                                                           </td></tr>\n",
       "\t<tr><td>eng_dscr                                                                       </td><td>engine descriptor; see http://www.fueleconomy.gov/feg/findacarhelp.shtml#engine</td></tr>\n",
       "\t<tr><td>evMotor                                                                        </td><td>electric motor (kw-hrs)                                                        </td></tr>\n",
       "\t<tr><td>⋮</td><td>⋮</td></tr>\n",
       "\t<tr><td>make                                                                                                                                                                                            </td><td>manufacturer (division)                                                                                                                                                                         </td></tr>\n",
       "\t<tr><td>mfrCode                                                                                                                                                                                         </td><td>3-character manufacturer code                                                                                                                                                                   </td></tr>\n",
       "\t<tr><td>model                                                                                                                                                                                           </td><td>model name (carline)                                                                                                                                                                            </td></tr>\n",
       "\t<tr><td>mpgData                                                                                                                                                                                         </td><td>has My MPG data; see yourMpgVehicle and yourMpgDriverVehicle                                                                                                                                    </td></tr>\n",
       "\t<tr><td>phevBlended                                                                                                                                                                                     </td><td>if true, this vehicle operates on a blend of gasoline and electricity in charge depleting mode                                                                                                  </td></tr>\n",
       "\t<tr><td>pv2                                                                                                                                                                                             </td><td>2-door passenger volume (cubic feet) (8)                                                                                                                                                        </td></tr>\n",
       "\t<tr><td>pv4                                                                                                                                                                                             </td><td>4-door passenger volume (cubic feet) (8)                                                                                                                                                        </td></tr>\n",
       "\t<tr><td>rangeA                                                                                                                                                                                          </td><td>EPA range for fuelType2                                                                                                                                                                         </td></tr>\n",
       "\t<tr><td>rangeCityA                                                                                                                                                                                      </td><td>EPA city range for fuelType2                                                                                                                                                                    </td></tr>\n",
       "\t<tr><td>rangeHwyA                                                                                                                                                                                       </td><td>EPA highway range for fuelType2                                                                                                                                                                 </td></tr>\n",
       "\t<tr><td>trans_dscr                                                                                                                                                                                      </td><td>transmission descriptor; see http://www.fueleconomy.gov/feg/findacarhelp.shtml#trany                                                                                                            </td></tr>\n",
       "\t<tr><td>trany                                                                                                                                                                                           </td><td>transmission                                                                                                                                                                                    </td></tr>\n",
       "\t<tr><td>UCity                                                                                                                                                                                           </td><td>unadjusted city MPG for fuelType1; see the description of the EPA test procedures                                                                                                               </td></tr>\n",
       "\t<tr><td>UCityA                                                                                                                                                                                          </td><td>unadjusted city MPG for fuelType2; see the description of the EPA test procedures                                                                                                               </td></tr>\n",
       "\t<tr><td>UHighway                                                                                                                                                                                        </td><td>unadjusted highway MPG for fuelType1; see the description of the EPA test procedures                                                                                                            </td></tr>\n",
       "\t<tr><td>UHighwayA                                                                                                                                                                                       </td><td>unadjusted highway MPG for fuelType2; see the description of the EPA test procedures                                                                                                            </td></tr>\n",
       "\t<tr><td>VClass                                                                                                                                                                                          </td><td>EPA vehicle size class                                                                                                                                                                          </td></tr>\n",
       "\t<tr><td>year                                                                                                                                                                                            </td><td>model year                                                                                                                                                                                      </td></tr>\n",
       "\t<tr><td>youSaveSpend                                                                                                                                                                                    </td><td>you save/spend over 5 years compared to an average car ($). Savings are positive; a greater amount spent yields a negative number. For dual fuel vehicles, this is the cost savings for gasoline</td></tr>\n",
       "\t<tr><td>sCharger                                                                                                                                                                                        </td><td>if S, this vehicle is supercharged                                                                                                                                                              </td></tr>\n",
       "\t<tr><td>tCharger                                                                                                                                                                                        </td><td>if T, this vehicle is turbocharged                                                                                                                                                              </td></tr>\n",
       "\t<tr><td>c240Dscr                                                                                                                                                                                        </td><td>electric vehicle charger description                                                                                                                                                            </td></tr>\n",
       "\t<tr><td>charge240b                                                                                                                                                                                      </td><td>time to charge an electric vehicle in hours at 240 V using the alternate charger                                                                                                                </td></tr>\n",
       "\t<tr><td>c240bDscr                                                                                                                                                                                       </td><td>electric vehicle alternate charger description                                                                                                                                                  </td></tr>\n",
       "\t<tr><td>createdOn                                                                                                                                                                                       </td><td>date the vehicle record was created (ISO 8601 format)                                                                                                                                           </td></tr>\n",
       "\t<tr><td>modifiedOn                                                                                                                                                                                      </td><td>date the vehicle record was last modified (ISO 8601 format)                                                                                                                                     </td></tr>\n",
       "\t<tr><td>startStop                                                                                                                                                                                       </td><td>vehicle has start-stop technology (Y, N, or blank for older vehicles)                                                                                                                           </td></tr>\n",
       "\t<tr><td>phevCity                                                                                                                                                                                        </td><td>EPA composite gasoline-electricity city MPGe for plug-in hybrid vehicles                                                                                                                        </td></tr>\n",
       "\t<tr><td>phevHwy                                                                                                                                                                                         </td><td>EPA composite gasoline-electricity highway MPGe for plug-in hybrid vehicles                                                                                                                     </td></tr>\n",
       "\t<tr><td>phevComb                                                                                                                                                                                        </td><td>EPA composite gasoline-electricity combined city-highway MPGe for plug-in hybrid vehicles                                                                                                       </td></tr>\n",
       "</tbody>\n",
       "</table>\n"
      ],
      "text/latex": [
       "\\begin{tabular}{ll}\n",
       "\t atvtype                                                                         & type of alternative fuel or advanced technology vehicle                        \\\\\n",
       "\t barrels08                                                                       & annual petroleum consumption in barrels for fuelType1 (1)                      \\\\\n",
       "\t barrelsA08                                                                      & annual petroleum consumption in barrels for fuelType2 (1)                      \\\\\n",
       "\t charge120                                                                       & time to charge an electric vehicle in hours at 120 V                           \\\\\n",
       "\t charge240                                                                       & time to charge an electric vehicle in hours at 240 V                           \\\\\n",
       "\t city08                                                                          & city MPG for fuelType1 (2), (11)                                               \\\\\n",
       "\t city08U                                                                         & unrounded city MPG for fuelType1 (2), (3)                                      \\\\\n",
       "\t cityA08                                                                         & city MPG for fuelType2 (2)                                                     \\\\\n",
       "\t cityA08U                                                                        & unrounded city MPG for fuelType2 (2), (3)                                      \\\\\n",
       "\t cityCD                                                                          & city gasoline consumption (gallons/100 miles) in charge depleting mode (4)     \\\\\n",
       "\t cityE                                                                           & city electricity consumption in kw-hrs/100 miles                               \\\\\n",
       "\t cityUF                                                                          & EPA city utility factor (share of electricity) for PHEV                        \\\\\n",
       "\t co2                                                                             & tailpipe CO2 in grams/mile for fuelType1 (5)                                   \\\\\n",
       "\t co2A                                                                            & tailpipe CO2 in grams/mile for fuelType2 (5)                                   \\\\\n",
       "\t co2TailpipeAGpm                                                                 & tailpipe CO2 in grams/mile for fuelType2 (5)                                   \\\\\n",
       "\t co2TailpipeGpm- tailpipe CO2 in grams/mile for fuelType1 (5)                    & co2TailpipeGpm- tailpipe CO2 in grams/mile for fuelType1 (5)                   \\\\\n",
       "\t comb08                                                                          & combined MPG for fuelType1 (2), (11)                                           \\\\\n",
       "\t comb08U                                                                         & unrounded combined MPG for fuelType1 (2), (3)                                  \\\\\n",
       "\t combA08                                                                         & combined MPG for fuelType2 (2)                                                 \\\\\n",
       "\t combA08U                                                                        & unrounded combined MPG for fuelType2 (2), (3)                                  \\\\\n",
       "\t combE                                                                           & combined electricity consumption in kw-hrs/100 miles                           \\\\\n",
       "\t combinedCD                                                                      & combined gasoline consumption (gallons/100 miles) in charge depleting mode (4) \\\\\n",
       "\t combinedUF                                                                      & EPA combined utility factor (share of electricity) for PHEV                    \\\\\n",
       "\t cylinders                                                                       & engine cylinders                                                               \\\\\n",
       "\t displ                                                                           & engine displacement in liters                                                  \\\\\n",
       "\t drive                                                                           & drive axle type                                                                \\\\\n",
       "\t emissionsList                                                                   & emissionsList                                                                  \\\\\n",
       "\t engId                                                                           & EPA model type index                                                           \\\\\n",
       "\t eng\\_dscr                                                                        & engine descriptor; see http://www.fueleconomy.gov/feg/findacarhelp.shtml\\#engine\\\\\n",
       "\t evMotor                                                                         & electric motor (kw-hrs)                                                        \\\\\n",
       "\t ⋮ & ⋮\\\\\n",
       "\t make                                                                                                                                                                                             & manufacturer (division)                                                                                                                                                                         \\\\\n",
       "\t mfrCode                                                                                                                                                                                          & 3-character manufacturer code                                                                                                                                                                   \\\\\n",
       "\t model                                                                                                                                                                                            & model name (carline)                                                                                                                                                                            \\\\\n",
       "\t mpgData                                                                                                                                                                                          & has My MPG data; see yourMpgVehicle and yourMpgDriverVehicle                                                                                                                                    \\\\\n",
       "\t phevBlended                                                                                                                                                                                      & if true, this vehicle operates on a blend of gasoline and electricity in charge depleting mode                                                                                                  \\\\\n",
       "\t pv2                                                                                                                                                                                              & 2-door passenger volume (cubic feet) (8)                                                                                                                                                        \\\\\n",
       "\t pv4                                                                                                                                                                                              & 4-door passenger volume (cubic feet) (8)                                                                                                                                                        \\\\\n",
       "\t rangeA                                                                                                                                                                                           & EPA range for fuelType2                                                                                                                                                                         \\\\\n",
       "\t rangeCityA                                                                                                                                                                                       & EPA city range for fuelType2                                                                                                                                                                    \\\\\n",
       "\t rangeHwyA                                                                                                                                                                                        & EPA highway range for fuelType2                                                                                                                                                                 \\\\\n",
       "\t trans\\_dscr                                                                                                                                                                                       & transmission descriptor; see http://www.fueleconomy.gov/feg/findacarhelp.shtml\\#trany                                                                                                            \\\\\n",
       "\t trany                                                                                                                                                                                            & transmission                                                                                                                                                                                    \\\\\n",
       "\t UCity                                                                                                                                                                                            & unadjusted city MPG for fuelType1; see the description of the EPA test procedures                                                                                                               \\\\\n",
       "\t UCityA                                                                                                                                                                                           & unadjusted city MPG for fuelType2; see the description of the EPA test procedures                                                                                                               \\\\\n",
       "\t UHighway                                                                                                                                                                                         & unadjusted highway MPG for fuelType1; see the description of the EPA test procedures                                                                                                            \\\\\n",
       "\t UHighwayA                                                                                                                                                                                        & unadjusted highway MPG for fuelType2; see the description of the EPA test procedures                                                                                                            \\\\\n",
       "\t VClass                                                                                                                                                                                           & EPA vehicle size class                                                                                                                                                                          \\\\\n",
       "\t year                                                                                                                                                                                             & model year                                                                                                                                                                                      \\\\\n",
       "\t youSaveSpend                                                                                                                                                                                       & you save/spend over 5 years compared to an average car (\\$). Savings are positive; a greater amount spent yields a negative number. For dual fuel vehicles, this is the cost savings for gasoline\\\\\n",
       "\t sCharger                                                                                                                                                                                         & if S, this vehicle is supercharged                                                                                                                                                              \\\\\n",
       "\t tCharger                                                                                                                                                                                         & if T, this vehicle is turbocharged                                                                                                                                                              \\\\\n",
       "\t c240Dscr                                                                                                                                                                                         & electric vehicle charger description                                                                                                                                                            \\\\\n",
       "\t charge240b                                                                                                                                                                                       & time to charge an electric vehicle in hours at 240 V using the alternate charger                                                                                                                \\\\\n",
       "\t c240bDscr                                                                                                                                                                                        & electric vehicle alternate charger description                                                                                                                                                  \\\\\n",
       "\t createdOn                                                                                                                                                                                        & date the vehicle record was created (ISO 8601 format)                                                                                                                                           \\\\\n",
       "\t modifiedOn                                                                                                                                                                                       & date the vehicle record was last modified (ISO 8601 format)                                                                                                                                     \\\\\n",
       "\t startStop                                                                                                                                                                                        & vehicle has start-stop technology (Y, N, or blank for older vehicles)                                                                                                                           \\\\\n",
       "\t phevCity                                                                                                                                                                                         & EPA composite gasoline-electricity city MPGe for plug-in hybrid vehicles                                                                                                                        \\\\\n",
       "\t phevHwy                                                                                                                                                                                          & EPA composite gasoline-electricity highway MPGe for plug-in hybrid vehicles                                                                                                                     \\\\\n",
       "\t phevComb                                                                                                                                                                                         & EPA composite gasoline-electricity combined city-highway MPGe for plug-in hybrid vehicles                                                                                                       \\\\\n",
       "\\end{tabular}\n"
      ],
      "text/markdown": [
       "\n",
       "| atvtype                                                                         | type of alternative fuel or advanced technology vehicle                         | \n",
       "| barrels08                                                                       | annual petroleum consumption in barrels for fuelType1 (1)                       | \n",
       "| barrelsA08                                                                      | annual petroleum consumption in barrels for fuelType2 (1)                       | \n",
       "| charge120                                                                       | time to charge an electric vehicle in hours at 120 V                            | \n",
       "| charge240                                                                       | time to charge an electric vehicle in hours at 240 V                            | \n",
       "| city08                                                                          | city MPG for fuelType1 (2), (11)                                                | \n",
       "| city08U                                                                         | unrounded city MPG for fuelType1 (2), (3)                                       | \n",
       "| cityA08                                                                         | city MPG for fuelType2 (2)                                                      | \n",
       "| cityA08U                                                                        | unrounded city MPG for fuelType2 (2), (3)                                       | \n",
       "| cityCD                                                                          | city gasoline consumption (gallons/100 miles) in charge depleting mode (4)      | \n",
       "| cityE                                                                           | city electricity consumption in kw-hrs/100 miles                                | \n",
       "| cityUF                                                                          | EPA city utility factor (share of electricity) for PHEV                         | \n",
       "| co2                                                                             | tailpipe CO2 in grams/mile for fuelType1 (5)                                    | \n",
       "| co2A                                                                            | tailpipe CO2 in grams/mile for fuelType2 (5)                                    | \n",
       "| co2TailpipeAGpm                                                                 | tailpipe CO2 in grams/mile for fuelType2 (5)                                    | \n",
       "| co2TailpipeGpm- tailpipe CO2 in grams/mile for fuelType1 (5)                    | co2TailpipeGpm- tailpipe CO2 in grams/mile for fuelType1 (5)                    | \n",
       "| comb08                                                                          | combined MPG for fuelType1 (2), (11)                                            | \n",
       "| comb08U                                                                         | unrounded combined MPG for fuelType1 (2), (3)                                   | \n",
       "| combA08                                                                         | combined MPG for fuelType2 (2)                                                  | \n",
       "| combA08U                                                                        | unrounded combined MPG for fuelType2 (2), (3)                                   | \n",
       "| combE                                                                           | combined electricity consumption in kw-hrs/100 miles                            | \n",
       "| combinedCD                                                                      | combined gasoline consumption (gallons/100 miles) in charge depleting mode (4)  | \n",
       "| combinedUF                                                                      | EPA combined utility factor (share of electricity) for PHEV                     | \n",
       "| cylinders                                                                       | engine cylinders                                                                | \n",
       "| displ                                                                           | engine displacement in liters                                                   | \n",
       "| drive                                                                           | drive axle type                                                                 | \n",
       "| emissionsList                                                                   | emissionsList                                                                   | \n",
       "| engId                                                                           | EPA model type index                                                            | \n",
       "| eng_dscr                                                                        | engine descriptor; see http://www.fueleconomy.gov/feg/findacarhelp.shtml#engine | \n",
       "| evMotor                                                                         | electric motor (kw-hrs)                                                         | \n",
       "| ⋮ | ⋮ | \n",
       "| make                                                                                                                                                                                             | manufacturer (division)                                                                                                                                                                          | \n",
       "| mfrCode                                                                                                                                                                                          | 3-character manufacturer code                                                                                                                                                                    | \n",
       "| model                                                                                                                                                                                            | model name (carline)                                                                                                                                                                             | \n",
       "| mpgData                                                                                                                                                                                          | has My MPG data; see yourMpgVehicle and yourMpgDriverVehicle                                                                                                                                     | \n",
       "| phevBlended                                                                                                                                                                                      | if true, this vehicle operates on a blend of gasoline and electricity in charge depleting mode                                                                                                   | \n",
       "| pv2                                                                                                                                                                                              | 2-door passenger volume (cubic feet) (8)                                                                                                                                                         | \n",
       "| pv4                                                                                                                                                                                              | 4-door passenger volume (cubic feet) (8)                                                                                                                                                         | \n",
       "| rangeA                                                                                                                                                                                           | EPA range for fuelType2                                                                                                                                                                          | \n",
       "| rangeCityA                                                                                                                                                                                       | EPA city range for fuelType2                                                                                                                                                                     | \n",
       "| rangeHwyA                                                                                                                                                                                        | EPA highway range for fuelType2                                                                                                                                                                  | \n",
       "| trans_dscr                                                                                                                                                                                       | transmission descriptor; see http://www.fueleconomy.gov/feg/findacarhelp.shtml#trany                                                                                                             | \n",
       "| trany                                                                                                                                                                                            | transmission                                                                                                                                                                                     | \n",
       "| UCity                                                                                                                                                                                            | unadjusted city MPG for fuelType1; see the description of the EPA test procedures                                                                                                                | \n",
       "| UCityA                                                                                                                                                                                           | unadjusted city MPG for fuelType2; see the description of the EPA test procedures                                                                                                                | \n",
       "| UHighway                                                                                                                                                                                         | unadjusted highway MPG for fuelType1; see the description of the EPA test procedures                                                                                                             | \n",
       "| UHighwayA                                                                                                                                                                                        | unadjusted highway MPG for fuelType2; see the description of the EPA test procedures                                                                                                             | \n",
       "| VClass                                                                                                                                                                                           | EPA vehicle size class                                                                                                                                                                           | \n",
       "| year                                                                                                                                                                                             | model year                                                                                                                                                                                       | \n",
       "| youSaveSpend                                                                                                                                                                                     | you save/spend over 5 years compared to an average car ($). Savings are positive; a greater amount spent yields a negative number. For dual fuel vehicles, this is the cost savings for gasoline | \n",
       "| sCharger                                                                                                                                                                                         | if S, this vehicle is supercharged                                                                                                                                                               | \n",
       "| tCharger                                                                                                                                                                                         | if T, this vehicle is turbocharged                                                                                                                                                               | \n",
       "| c240Dscr                                                                                                                                                                                         | electric vehicle charger description                                                                                                                                                             | \n",
       "| charge240b                                                                                                                                                                                       | time to charge an electric vehicle in hours at 240 V using the alternate charger                                                                                                                 | \n",
       "| c240bDscr                                                                                                                                                                                        | electric vehicle alternate charger description                                                                                                                                                   | \n",
       "| createdOn                                                                                                                                                                                        | date the vehicle record was created (ISO 8601 format)                                                                                                                                            | \n",
       "| modifiedOn                                                                                                                                                                                       | date the vehicle record was last modified (ISO 8601 format)                                                                                                                                      | \n",
       "| startStop                                                                                                                                                                                        | vehicle has start-stop technology (Y, N, or blank for older vehicles)                                                                                                                            | \n",
       "| phevCity                                                                                                                                                                                         | EPA composite gasoline-electricity city MPGe for plug-in hybrid vehicles                                                                                                                         | \n",
       "| phevHwy                                                                                                                                                                                          | EPA composite gasoline-electricity highway MPGe for plug-in hybrid vehicles                                                                                                                      | \n",
       "| phevComb                                                                                                                                                                                         | EPA composite gasoline-electricity combined city-highway MPGe for plug-in hybrid vehicles                                                                                                        | \n",
       "\n",
       "\n"
      ],
      "text/plain": [
       "      [,1]                                                        \n",
       " [1,] atvtype                                                     \n",
       " [2,] barrels08                                                   \n",
       " [3,] barrelsA08                                                  \n",
       " [4,] charge120                                                   \n",
       " [5,] charge240                                                   \n",
       " [6,] city08                                                      \n",
       " [7,] city08U                                                     \n",
       " [8,] cityA08                                                     \n",
       " [9,] cityA08U                                                    \n",
       "[10,] cityCD                                                      \n",
       "[11,] cityE                                                       \n",
       "[12,] cityUF                                                      \n",
       "[13,] co2                                                         \n",
       "[14,] co2A                                                        \n",
       "[15,] co2TailpipeAGpm                                             \n",
       "[16,] co2TailpipeGpm- tailpipe CO2 in grams/mile for fuelType1 (5)\n",
       "[17,] comb08                                                      \n",
       "[18,] comb08U                                                     \n",
       "[19,] combA08                                                     \n",
       "[20,] combA08U                                                    \n",
       "[21,] combE                                                       \n",
       "[22,] combinedCD                                                  \n",
       "[23,] combinedUF                                                  \n",
       "[24,] cylinders                                                   \n",
       "[25,] displ                                                       \n",
       "[26,] drive                                                       \n",
       "[27,] emissionsList                                               \n",
       "[28,] engId                                                       \n",
       "[29,] eng_dscr                                                    \n",
       "[30,] evMotor                                                     \n",
       "[31,] ⋮                                                           \n",
       "[32,] make                                                        \n",
       "[33,] mfrCode                                                     \n",
       "[34,] model                                                       \n",
       "[35,] mpgData                                                     \n",
       "[36,] phevBlended                                                 \n",
       "[37,] pv2                                                         \n",
       "[38,] pv4                                                         \n",
       "[39,] rangeA                                                      \n",
       "[40,] rangeCityA                                                  \n",
       "[41,] rangeHwyA                                                   \n",
       "[42,] trans_dscr                                                  \n",
       "[43,] trany                                                       \n",
       "[44,] UCity                                                       \n",
       "[45,] UCityA                                                      \n",
       "[46,] UHighway                                                    \n",
       "[47,] UHighwayA                                                   \n",
       "[48,] VClass                                                      \n",
       "[49,] year                                                        \n",
       "[50,] youSaveSpend                                                \n",
       "[51,] sCharger                                                    \n",
       "[52,] tCharger                                                    \n",
       "[53,] c240Dscr                                                    \n",
       "[54,] charge240b                                                  \n",
       "[55,] c240bDscr                                                   \n",
       "[56,] createdOn                                                   \n",
       "[57,] modifiedOn                                                  \n",
       "[58,] startStop                                                   \n",
       "[59,] phevCity                                                    \n",
       "[60,] phevHwy                                                     \n",
       "[61,] phevComb                                                    \n",
       "      [,2]                                                                                                                                                                                            \n",
       " [1,] type of alternative fuel or advanced technology vehicle                                                                                                                                         \n",
       " [2,] annual petroleum consumption in barrels for fuelType1 (1)                                                                                                                                       \n",
       " [3,] annual petroleum consumption in barrels for fuelType2 (1)                                                                                                                                       \n",
       " [4,] time to charge an electric vehicle in hours at 120 V                                                                                                                                            \n",
       " [5,] time to charge an electric vehicle in hours at 240 V                                                                                                                                            \n",
       " [6,] city MPG for fuelType1 (2), (11)                                                                                                                                                                \n",
       " [7,] unrounded city MPG for fuelType1 (2), (3)                                                                                                                                                       \n",
       " [8,] city MPG for fuelType2 (2)                                                                                                                                                                      \n",
       " [9,] unrounded city MPG for fuelType2 (2), (3)                                                                                                                                                       \n",
       "[10,] city gasoline consumption (gallons/100 miles) in charge depleting mode (4)                                                                                                                      \n",
       "[11,] city electricity consumption in kw-hrs/100 miles                                                                                                                                                \n",
       "[12,] EPA city utility factor (share of electricity) for PHEV                                                                                                                                         \n",
       "[13,] tailpipe CO2 in grams/mile for fuelType1 (5)                                                                                                                                                    \n",
       "[14,] tailpipe CO2 in grams/mile for fuelType2 (5)                                                                                                                                                    \n",
       "[15,] tailpipe CO2 in grams/mile for fuelType2 (5)                                                                                                                                                    \n",
       "[16,] co2TailpipeGpm- tailpipe CO2 in grams/mile for fuelType1 (5)                                                                                                                                    \n",
       "[17,] combined MPG for fuelType1 (2), (11)                                                                                                                                                            \n",
       "[18,] unrounded combined MPG for fuelType1 (2), (3)                                                                                                                                                   \n",
       "[19,] combined MPG for fuelType2 (2)                                                                                                                                                                  \n",
       "[20,] unrounded combined MPG for fuelType2 (2), (3)                                                                                                                                                   \n",
       "[21,] combined electricity consumption in kw-hrs/100 miles                                                                                                                                            \n",
       "[22,] combined gasoline consumption (gallons/100 miles) in charge depleting mode (4)                                                                                                                  \n",
       "[23,] EPA combined utility factor (share of electricity) for PHEV                                                                                                                                     \n",
       "[24,] engine cylinders                                                                                                                                                                                \n",
       "[25,] engine displacement in liters                                                                                                                                                                   \n",
       "[26,] drive axle type                                                                                                                                                                                 \n",
       "[27,] emissionsList                                                                                                                                                                                   \n",
       "[28,] EPA model type index                                                                                                                                                                            \n",
       "[29,] engine descriptor; see http://www.fueleconomy.gov/feg/findacarhelp.shtml#engine                                                                                                                 \n",
       "[30,] electric motor (kw-hrs)                                                                                                                                                                         \n",
       "[31,] ⋮                                                                                                                                                                                               \n",
       "[32,] manufacturer (division)                                                                                                                                                                         \n",
       "[33,] 3-character manufacturer code                                                                                                                                                                   \n",
       "[34,] model name (carline)                                                                                                                                                                            \n",
       "[35,] has My MPG data; see yourMpgVehicle and yourMpgDriverVehicle                                                                                                                                    \n",
       "[36,] if true, this vehicle operates on a blend of gasoline and electricity in charge depleting mode                                                                                                  \n",
       "[37,] 2-door passenger volume (cubic feet) (8)                                                                                                                                                        \n",
       "[38,] 4-door passenger volume (cubic feet) (8)                                                                                                                                                        \n",
       "[39,] EPA range for fuelType2                                                                                                                                                                         \n",
       "[40,] EPA city range for fuelType2                                                                                                                                                                    \n",
       "[41,] EPA highway range for fuelType2                                                                                                                                                                 \n",
       "[42,] transmission descriptor; see http://www.fueleconomy.gov/feg/findacarhelp.shtml#trany                                                                                                            \n",
       "[43,] transmission                                                                                                                                                                                    \n",
       "[44,] unadjusted city MPG for fuelType1; see the description of the EPA test procedures                                                                                                               \n",
       "[45,] unadjusted city MPG for fuelType2; see the description of the EPA test procedures                                                                                                               \n",
       "[46,] unadjusted highway MPG for fuelType1; see the description of the EPA test procedures                                                                                                            \n",
       "[47,] unadjusted highway MPG for fuelType2; see the description of the EPA test procedures                                                                                                            \n",
       "[48,] EPA vehicle size class                                                                                                                                                                          \n",
       "[49,] model year                                                                                                                                                                                      \n",
       "[50,] you save/spend over 5 years compared to an average car ($). Savings are positive; a greater amount spent yields a negative number. For dual fuel vehicles, this is the cost savings for gasoline\n",
       "[51,] if S, this vehicle is supercharged                                                                                                                                                              \n",
       "[52,] if T, this vehicle is turbocharged                                                                                                                                                              \n",
       "[53,] electric vehicle charger description                                                                                                                                                            \n",
       "[54,] time to charge an electric vehicle in hours at 240 V using the alternate charger                                                                                                                \n",
       "[55,] electric vehicle alternate charger description                                                                                                                                                  \n",
       "[56,] date the vehicle record was created (ISO 8601 format)                                                                                                                                           \n",
       "[57,] date the vehicle record was last modified (ISO 8601 format)                                                                                                                                     \n",
       "[58,] vehicle has start-stop technology (Y, N, or blank for older vehicles)                                                                                                                           \n",
       "[59,] EPA composite gasoline-electricity city MPGe for plug-in hybrid vehicles                                                                                                                        \n",
       "[60,] EPA composite gasoline-electricity highway MPGe for plug-in hybrid vehicles                                                                                                                     \n",
       "[61,] EPA composite gasoline-electricity combined city-highway MPGe for plug-in hybrid vehicles                                                                                                       "
      ]
     },
     "metadata": {},
     "output_type": "display_data"
    }
   ],
   "source": [
    "labels <- do.call(rbind, strsplit(readLines(\"varlabels.txt\"), \" - \"))\n",
    "labels"
   ]
  },
  {
   "cell_type": "code",
   "execution_count": 7,
   "metadata": {},
   "outputs": [
    {
     "data": {
      "text/html": [
       "40081"
      ],
      "text/latex": [
       "40081"
      ],
      "text/markdown": [
       "40081"
      ],
      "text/plain": [
       "[1] 40081"
      ]
     },
     "metadata": {},
     "output_type": "display_data"
    },
    {
     "data": {
      "text/html": [
       "83"
      ],
      "text/latex": [
       "83"
      ],
      "text/markdown": [
       "83"
      ],
      "text/plain": [
       "[1] 83"
      ]
     },
     "metadata": {},
     "output_type": "display_data"
    },
    {
     "data": {
      "text/html": [
       "<ol class=list-inline>\n",
       "\t<li>'barrels08'</li>\n",
       "\t<li>'barrelsA08'</li>\n",
       "\t<li>'charge120'</li>\n",
       "\t<li>'charge240'</li>\n",
       "\t<li>'city08'</li>\n",
       "\t<li>'city08U'</li>\n",
       "\t<li>'cityA08'</li>\n",
       "\t<li>'cityA08U'</li>\n",
       "\t<li>'cityCD'</li>\n",
       "\t<li>'cityE'</li>\n",
       "\t<li>'cityUF'</li>\n",
       "\t<li>'co2'</li>\n",
       "\t<li>'co2A'</li>\n",
       "\t<li>'co2TailpipeAGpm'</li>\n",
       "\t<li>'co2TailpipeGpm'</li>\n",
       "\t<li>'comb08'</li>\n",
       "\t<li>'comb08U'</li>\n",
       "\t<li>'combA08'</li>\n",
       "\t<li>'combA08U'</li>\n",
       "\t<li>'combE'</li>\n",
       "\t<li>'combinedCD'</li>\n",
       "\t<li>'combinedUF'</li>\n",
       "\t<li>'cylinders'</li>\n",
       "\t<li>'displ'</li>\n",
       "\t<li>'drive'</li>\n",
       "\t<li>'engId'</li>\n",
       "\t<li>'eng_dscr'</li>\n",
       "\t<li>'feScore'</li>\n",
       "\t<li>'fuelCost08'</li>\n",
       "\t<li>'fuelCostA08'</li>\n",
       "\t<li>'fuelType'</li>\n",
       "\t<li>'fuelType1'</li>\n",
       "\t<li>'ghgScore'</li>\n",
       "\t<li>'ghgScoreA'</li>\n",
       "\t<li>'highway08'</li>\n",
       "\t<li>'highway08U'</li>\n",
       "\t<li>'highwayA08'</li>\n",
       "\t<li>'highwayA08U'</li>\n",
       "\t<li>'highwayCD'</li>\n",
       "\t<li>'highwayE'</li>\n",
       "\t<li>'highwayUF'</li>\n",
       "\t<li>'hlv'</li>\n",
       "\t<li>'hpv'</li>\n",
       "\t<li>'id'</li>\n",
       "\t<li>'lv2'</li>\n",
       "\t<li>'lv4'</li>\n",
       "\t<li>'make'</li>\n",
       "\t<li>'model'</li>\n",
       "\t<li>'mpgData'</li>\n",
       "\t<li>'phevBlended'</li>\n",
       "\t<li>'pv2'</li>\n",
       "\t<li>'pv4'</li>\n",
       "\t<li>'range'</li>\n",
       "\t<li>'rangeCity'</li>\n",
       "\t<li>'rangeCityA'</li>\n",
       "\t<li>'rangeHwy'</li>\n",
       "\t<li>'rangeHwyA'</li>\n",
       "\t<li>'trany'</li>\n",
       "\t<li>'UCity'</li>\n",
       "\t<li>'UCityA'</li>\n",
       "\t<li>'UHighway'</li>\n",
       "\t<li>'UHighwayA'</li>\n",
       "\t<li>'VClass'</li>\n",
       "\t<li>'year'</li>\n",
       "\t<li>'youSaveSpend'</li>\n",
       "\t<li>'guzzler'</li>\n",
       "\t<li>'trans_dscr'</li>\n",
       "\t<li>'tCharger'</li>\n",
       "\t<li>'sCharger'</li>\n",
       "\t<li>'atvType'</li>\n",
       "\t<li>'fuelType2'</li>\n",
       "\t<li>'rangeA'</li>\n",
       "\t<li>'evMotor'</li>\n",
       "\t<li>'mfrCode'</li>\n",
       "\t<li>'c240Dscr'</li>\n",
       "\t<li>'charge240b'</li>\n",
       "\t<li>'c240bDscr'</li>\n",
       "\t<li>'createdOn'</li>\n",
       "\t<li>'modifiedOn'</li>\n",
       "\t<li>'startStop'</li>\n",
       "\t<li>'phevCity'</li>\n",
       "\t<li>'phevHwy'</li>\n",
       "\t<li>'phevComb'</li>\n",
       "</ol>\n"
      ],
      "text/latex": [
       "\\begin{enumerate*}\n",
       "\\item 'barrels08'\n",
       "\\item 'barrelsA08'\n",
       "\\item 'charge120'\n",
       "\\item 'charge240'\n",
       "\\item 'city08'\n",
       "\\item 'city08U'\n",
       "\\item 'cityA08'\n",
       "\\item 'cityA08U'\n",
       "\\item 'cityCD'\n",
       "\\item 'cityE'\n",
       "\\item 'cityUF'\n",
       "\\item 'co2'\n",
       "\\item 'co2A'\n",
       "\\item 'co2TailpipeAGpm'\n",
       "\\item 'co2TailpipeGpm'\n",
       "\\item 'comb08'\n",
       "\\item 'comb08U'\n",
       "\\item 'combA08'\n",
       "\\item 'combA08U'\n",
       "\\item 'combE'\n",
       "\\item 'combinedCD'\n",
       "\\item 'combinedUF'\n",
       "\\item 'cylinders'\n",
       "\\item 'displ'\n",
       "\\item 'drive'\n",
       "\\item 'engId'\n",
       "\\item 'eng\\_dscr'\n",
       "\\item 'feScore'\n",
       "\\item 'fuelCost08'\n",
       "\\item 'fuelCostA08'\n",
       "\\item 'fuelType'\n",
       "\\item 'fuelType1'\n",
       "\\item 'ghgScore'\n",
       "\\item 'ghgScoreA'\n",
       "\\item 'highway08'\n",
       "\\item 'highway08U'\n",
       "\\item 'highwayA08'\n",
       "\\item 'highwayA08U'\n",
       "\\item 'highwayCD'\n",
       "\\item 'highwayE'\n",
       "\\item 'highwayUF'\n",
       "\\item 'hlv'\n",
       "\\item 'hpv'\n",
       "\\item 'id'\n",
       "\\item 'lv2'\n",
       "\\item 'lv4'\n",
       "\\item 'make'\n",
       "\\item 'model'\n",
       "\\item 'mpgData'\n",
       "\\item 'phevBlended'\n",
       "\\item 'pv2'\n",
       "\\item 'pv4'\n",
       "\\item 'range'\n",
       "\\item 'rangeCity'\n",
       "\\item 'rangeCityA'\n",
       "\\item 'rangeHwy'\n",
       "\\item 'rangeHwyA'\n",
       "\\item 'trany'\n",
       "\\item 'UCity'\n",
       "\\item 'UCityA'\n",
       "\\item 'UHighway'\n",
       "\\item 'UHighwayA'\n",
       "\\item 'VClass'\n",
       "\\item 'year'\n",
       "\\item 'youSaveSpend'\n",
       "\\item 'guzzler'\n",
       "\\item 'trans\\_dscr'\n",
       "\\item 'tCharger'\n",
       "\\item 'sCharger'\n",
       "\\item 'atvType'\n",
       "\\item 'fuelType2'\n",
       "\\item 'rangeA'\n",
       "\\item 'evMotor'\n",
       "\\item 'mfrCode'\n",
       "\\item 'c240Dscr'\n",
       "\\item 'charge240b'\n",
       "\\item 'c240bDscr'\n",
       "\\item 'createdOn'\n",
       "\\item 'modifiedOn'\n",
       "\\item 'startStop'\n",
       "\\item 'phevCity'\n",
       "\\item 'phevHwy'\n",
       "\\item 'phevComb'\n",
       "\\end{enumerate*}\n"
      ],
      "text/markdown": [
       "1. 'barrels08'\n",
       "2. 'barrelsA08'\n",
       "3. 'charge120'\n",
       "4. 'charge240'\n",
       "5. 'city08'\n",
       "6. 'city08U'\n",
       "7. 'cityA08'\n",
       "8. 'cityA08U'\n",
       "9. 'cityCD'\n",
       "10. 'cityE'\n",
       "11. 'cityUF'\n",
       "12. 'co2'\n",
       "13. 'co2A'\n",
       "14. 'co2TailpipeAGpm'\n",
       "15. 'co2TailpipeGpm'\n",
       "16. 'comb08'\n",
       "17. 'comb08U'\n",
       "18. 'combA08'\n",
       "19. 'combA08U'\n",
       "20. 'combE'\n",
       "21. 'combinedCD'\n",
       "22. 'combinedUF'\n",
       "23. 'cylinders'\n",
       "24. 'displ'\n",
       "25. 'drive'\n",
       "26. 'engId'\n",
       "27. 'eng_dscr'\n",
       "28. 'feScore'\n",
       "29. 'fuelCost08'\n",
       "30. 'fuelCostA08'\n",
       "31. 'fuelType'\n",
       "32. 'fuelType1'\n",
       "33. 'ghgScore'\n",
       "34. 'ghgScoreA'\n",
       "35. 'highway08'\n",
       "36. 'highway08U'\n",
       "37. 'highwayA08'\n",
       "38. 'highwayA08U'\n",
       "39. 'highwayCD'\n",
       "40. 'highwayE'\n",
       "41. 'highwayUF'\n",
       "42. 'hlv'\n",
       "43. 'hpv'\n",
       "44. 'id'\n",
       "45. 'lv2'\n",
       "46. 'lv4'\n",
       "47. 'make'\n",
       "48. 'model'\n",
       "49. 'mpgData'\n",
       "50. 'phevBlended'\n",
       "51. 'pv2'\n",
       "52. 'pv4'\n",
       "53. 'range'\n",
       "54. 'rangeCity'\n",
       "55. 'rangeCityA'\n",
       "56. 'rangeHwy'\n",
       "57. 'rangeHwyA'\n",
       "58. 'trany'\n",
       "59. 'UCity'\n",
       "60. 'UCityA'\n",
       "61. 'UHighway'\n",
       "62. 'UHighwayA'\n",
       "63. 'VClass'\n",
       "64. 'year'\n",
       "65. 'youSaveSpend'\n",
       "66. 'guzzler'\n",
       "67. 'trans_dscr'\n",
       "68. 'tCharger'\n",
       "69. 'sCharger'\n",
       "70. 'atvType'\n",
       "71. 'fuelType2'\n",
       "72. 'rangeA'\n",
       "73. 'evMotor'\n",
       "74. 'mfrCode'\n",
       "75. 'c240Dscr'\n",
       "76. 'charge240b'\n",
       "77. 'c240bDscr'\n",
       "78. 'createdOn'\n",
       "79. 'modifiedOn'\n",
       "80. 'startStop'\n",
       "81. 'phevCity'\n",
       "82. 'phevHwy'\n",
       "83. 'phevComb'\n",
       "\n",
       "\n"
      ],
      "text/plain": [
       " [1] \"barrels08\"       \"barrelsA08\"      \"charge120\"       \"charge240\"      \n",
       " [5] \"city08\"          \"city08U\"         \"cityA08\"         \"cityA08U\"       \n",
       " [9] \"cityCD\"          \"cityE\"           \"cityUF\"          \"co2\"            \n",
       "[13] \"co2A\"            \"co2TailpipeAGpm\" \"co2TailpipeGpm\"  \"comb08\"         \n",
       "[17] \"comb08U\"         \"combA08\"         \"combA08U\"        \"combE\"          \n",
       "[21] \"combinedCD\"      \"combinedUF\"      \"cylinders\"       \"displ\"          \n",
       "[25] \"drive\"           \"engId\"           \"eng_dscr\"        \"feScore\"        \n",
       "[29] \"fuelCost08\"      \"fuelCostA08\"     \"fuelType\"        \"fuelType1\"      \n",
       "[33] \"ghgScore\"        \"ghgScoreA\"       \"highway08\"       \"highway08U\"     \n",
       "[37] \"highwayA08\"      \"highwayA08U\"     \"highwayCD\"       \"highwayE\"       \n",
       "[41] \"highwayUF\"       \"hlv\"             \"hpv\"             \"id\"             \n",
       "[45] \"lv2\"             \"lv4\"             \"make\"            \"model\"          \n",
       "[49] \"mpgData\"         \"phevBlended\"     \"pv2\"             \"pv4\"            \n",
       "[53] \"range\"           \"rangeCity\"       \"rangeCityA\"      \"rangeHwy\"       \n",
       "[57] \"rangeHwyA\"       \"trany\"           \"UCity\"           \"UCityA\"         \n",
       "[61] \"UHighway\"        \"UHighwayA\"       \"VClass\"          \"year\"           \n",
       "[65] \"youSaveSpend\"    \"guzzler\"         \"trans_dscr\"      \"tCharger\"       \n",
       "[69] \"sCharger\"        \"atvType\"         \"fuelType2\"       \"rangeA\"         \n",
       "[73] \"evMotor\"         \"mfrCode\"         \"c240Dscr\"        \"charge240b\"     \n",
       "[77] \"c240bDscr\"       \"createdOn\"       \"modifiedOn\"      \"startStop\"      \n",
       "[81] \"phevCity\"        \"phevHwy\"         \"phevComb\"       "
      ]
     },
     "metadata": {},
     "output_type": "display_data"
    }
   ],
   "source": [
    "nrow(vehicles)\n",
    "ncol(vehicles)\n",
    "names(vehicles)"
   ]
  },
  {
   "cell_type": "markdown",
   "metadata": {},
   "source": [
    "Let's find out how many unique years of data are included in this dataset by\n",
    "computing a vector of the unique values in the year column, and then computing the\n",
    "length of the vector:"
   ]
  },
  {
   "cell_type": "code",
   "execution_count": 9,
   "metadata": {},
   "outputs": [
    {
     "data": {
      "text/html": [
       "<ol class=list-inline>\n",
       "\t<li>1985</li>\n",
       "\t<li>1993</li>\n",
       "\t<li>1994</li>\n",
       "\t<li>1995</li>\n",
       "\t<li>1996</li>\n",
       "\t<li>1997</li>\n",
       "\t<li>1998</li>\n",
       "\t<li>1999</li>\n",
       "\t<li>2000</li>\n",
       "\t<li>2001</li>\n",
       "\t<li>1986</li>\n",
       "\t<li>2002</li>\n",
       "\t<li>2003</li>\n",
       "\t<li>2004</li>\n",
       "\t<li>2005</li>\n",
       "\t<li>2006</li>\n",
       "\t<li>2007</li>\n",
       "\t<li>2008</li>\n",
       "\t<li>2009</li>\n",
       "\t<li>2010</li>\n",
       "\t<li>1984</li>\n",
       "\t<li>1987</li>\n",
       "\t<li>1988</li>\n",
       "\t<li>1989</li>\n",
       "\t<li>1990</li>\n",
       "\t<li>1991</li>\n",
       "\t<li>1992</li>\n",
       "\t<li>2011</li>\n",
       "\t<li>2012</li>\n",
       "\t<li>2013</li>\n",
       "\t<li>2014</li>\n",
       "\t<li>2015</li>\n",
       "\t<li>2016</li>\n",
       "\t<li>2017</li>\n",
       "\t<li>2018</li>\n",
       "\t<li>2019</li>\n",
       "</ol>\n"
      ],
      "text/latex": [
       "\\begin{enumerate*}\n",
       "\\item 1985\n",
       "\\item 1993\n",
       "\\item 1994\n",
       "\\item 1995\n",
       "\\item 1996\n",
       "\\item 1997\n",
       "\\item 1998\n",
       "\\item 1999\n",
       "\\item 2000\n",
       "\\item 2001\n",
       "\\item 1986\n",
       "\\item 2002\n",
       "\\item 2003\n",
       "\\item 2004\n",
       "\\item 2005\n",
       "\\item 2006\n",
       "\\item 2007\n",
       "\\item 2008\n",
       "\\item 2009\n",
       "\\item 2010\n",
       "\\item 1984\n",
       "\\item 1987\n",
       "\\item 1988\n",
       "\\item 1989\n",
       "\\item 1990\n",
       "\\item 1991\n",
       "\\item 1992\n",
       "\\item 2011\n",
       "\\item 2012\n",
       "\\item 2013\n",
       "\\item 2014\n",
       "\\item 2015\n",
       "\\item 2016\n",
       "\\item 2017\n",
       "\\item 2018\n",
       "\\item 2019\n",
       "\\end{enumerate*}\n"
      ],
      "text/markdown": [
       "1. 1985\n",
       "2. 1993\n",
       "3. 1994\n",
       "4. 1995\n",
       "5. 1996\n",
       "6. 1997\n",
       "7. 1998\n",
       "8. 1999\n",
       "9. 2000\n",
       "10. 2001\n",
       "11. 1986\n",
       "12. 2002\n",
       "13. 2003\n",
       "14. 2004\n",
       "15. 2005\n",
       "16. 2006\n",
       "17. 2007\n",
       "18. 2008\n",
       "19. 2009\n",
       "20. 2010\n",
       "21. 1984\n",
       "22. 1987\n",
       "23. 1988\n",
       "24. 1989\n",
       "25. 1990\n",
       "26. 1991\n",
       "27. 1992\n",
       "28. 2011\n",
       "29. 2012\n",
       "30. 2013\n",
       "31. 2014\n",
       "32. 2015\n",
       "33. 2016\n",
       "34. 2017\n",
       "35. 2018\n",
       "36. 2019\n",
       "\n",
       "\n"
      ],
      "text/plain": [
       " [1] 1985 1993 1994 1995 1996 1997 1998 1999 2000 2001 1986 2002 2003 2004 2005\n",
       "[16] 2006 2007 2008 2009 2010 1984 1987 1988 1989 1990 1991 1992 2011 2012 2013\n",
       "[31] 2014 2015 2016 2017 2018 2019"
      ]
     },
     "metadata": {},
     "output_type": "display_data"
    },
    {
     "data": {
      "text/html": [
       "36"
      ],
      "text/latex": [
       "36"
      ],
      "text/markdown": [
       "36"
      ],
      "text/plain": [
       "[1] 36"
      ]
     },
     "metadata": {},
     "output_type": "display_data"
    }
   ],
   "source": [
    "unique(vehicles[, \"year\"])\n",
    "length(unique(vehicles[, \"year\"]))"
   ]
  },
  {
   "cell_type": "code",
   "execution_count": 11,
   "metadata": {},
   "outputs": [
    {
     "data": {
      "text/html": [
       "1984"
      ],
      "text/latex": [
       "1984"
      ],
      "text/markdown": [
       "1984"
      ],
      "text/plain": [
       "[1] 1984"
      ]
     },
     "metadata": {},
     "output_type": "display_data"
    },
    {
     "data": {
      "text/html": [
       "2019"
      ],
      "text/latex": [
       "2019"
      ],
      "text/markdown": [
       "2019"
      ],
      "text/plain": [
       "[1] 2019"
      ]
     },
     "metadata": {},
     "output_type": "display_data"
    }
   ],
   "source": [
    "first_year <- min(vehicles[, \"year\"])\n",
    "last_year <- max(vehicles[, \"year\"])\n",
    "first_year\n",
    "last_year"
   ]
  },
  {
   "cell_type": "code",
   "execution_count": 12,
   "metadata": {},
   "outputs": [
    {
     "data": {
      "text/html": [
       "36"
      ],
      "text/latex": [
       "36"
      ],
      "text/markdown": [
       "36"
      ],
      "text/plain": [
       "[1] 36"
      ]
     },
     "metadata": {},
     "output_type": "display_data"
    }
   ],
   "source": [
    "length(unique(vehicles$year))"
   ]
  },
  {
   "cell_type": "code",
   "execution_count": 16,
   "metadata": {},
   "outputs": [
    {
     "data": {
      "text/plain": [
       "\n",
       "           Diesel       Electricity Midgrade Gasoline       Natural Gas \n",
       "             1142               168               100                60 \n",
       " Premium Gasoline  Regular Gasoline \n",
       "            11267             27344 "
      ]
     },
     "metadata": {},
     "output_type": "display_data"
    }
   ],
   "source": [
    "table(vehicles$fuelType1)"
   ]
  },
  {
   "cell_type": "markdown",
   "metadata": {},
   "source": [
    "Let's explore the types of transmissions used by these automobiles. We first need to\n",
    "take care of all missing data by setting it to NA:"
   ]
  },
  {
   "cell_type": "code",
   "execution_count": 18,
   "metadata": {},
   "outputs": [],
   "source": [
    "vehicles$trany[vehicles$trany == \"\"] <- NA"
   ]
  },
  {
   "cell_type": "markdown",
   "metadata": {},
   "source": [
    "Now, the trany column is text, and we only care whether the car's transmission\n",
    "is automatic or manual. Thus, we use the substr function to extract the first four\n",
    "characters of each trany column value and determine whether it is equal to Auto.\n",
    "If so, we set a new variable, trany2, equal to Auto; otherwise, the value is set to\n",
    "Manual:"
   ]
  },
  {
   "cell_type": "code",
   "execution_count": 19,
   "metadata": {},
   "outputs": [],
   "source": [
    "vehicles$trany2 <- ifelse(substr(vehicles$trany, 1, 4) ==\n",
    "\"Auto\", \"Auto\", \"Manual\")"
   ]
  },
  {
   "cell_type": "markdown",
   "metadata": {},
   "source": [
    "Finally, we convert the new variable to a factor and then use the table function to see\n",
    "the distribution of values:"
   ]
  },
  {
   "cell_type": "code",
   "execution_count": 22,
   "metadata": {},
   "outputs": [
    {
     "data": {
      "text/plain": [
       "\n",
       "  Auto Manual \n",
       " 27358  12712 "
      ]
     },
     "metadata": {},
     "output_type": "display_data"
    }
   ],
   "source": [
    "vehicles$trany2 <- as.factor(vehicles$trany2)\n",
    "table(vehicles$trany2)"
   ]
  },
  {
   "cell_type": "code",
   "execution_count": 24,
   "metadata": {},
   "outputs": [
    {
     "data": {
      "text/plain": [
       "        year\n",
       "sCharger 1984 1985 1986 1987 1988 1989 1990 1991 1992 1993 1994 1995 1996 1997\n",
       "         1964 1701 1210 1247 1130 1149 1074 1130 1116 1088  979  962  767  757\n",
       "       S    0    0    0    0    0    4    4    2    5    5    3    5    6    5\n",
       "        year\n",
       "sCharger 1998 1999 2000 2001 2002 2003 2004 2005 2006 2007 2008 2009 2010 2011\n",
       "          800  840  826  891  949 1015 1089 1136 1067 1098 1152 1165 1091 1105\n",
       "       S   12   12   14   20   26   29   33   30   37   28   35   19   18   25\n",
       "        year\n",
       "sCharger 2012 2013 2014 2015 2016 2017 2018 2019\n",
       "         1124 1142 1156 1218 1196 1230 1270  451\n",
       "       S   28   42   65   60   61   63   60   40"
      ]
     },
     "metadata": {},
     "output_type": "display_data"
    }
   ],
   "source": [
    "# Crosstab\n",
    "with(vehicles, table(sCharger, year))"
   ]
  },
  {
   "cell_type": "markdown",
   "metadata": {},
   "source": [
    "Also, note that we use the with command. This command tells R to use vehicles as the\n",
    "default data when performing the subsequent command, in this case, table. Thus, we can\n",
    "omit prefacing the sCharger and year column names with the name of the data frame and\n",
    "vehicles, followed by the dollar sign."
   ]
  },
  {
   "cell_type": "code",
   "execution_count": null,
   "metadata": {},
   "outputs": [],
   "source": []
  }
 ],
 "metadata": {
  "kernelspec": {
   "display_name": "R",
   "language": "R",
   "name": "ir"
  }
 },
 "nbformat": 4,
 "nbformat_minor": 2
}
